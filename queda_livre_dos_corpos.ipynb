{
  "cells": [
    {
      "cell_type": "markdown",
      "metadata": {
        "id": "-dByGkHgjShm"
      },
      "source": [
        "\n",
        "\n",
        "<h1 style=\"text-align: center;\">Física Computacional: Corpos em Queda Livre</h1>\n",
        "\n",
        "<p style='text-align: center;'>Autores: Gustavo H. Sahd</p>\n",
        "\n",
        "---\n",
        "\n",
        "<p style='text-align: justify;'><strong>OBS: O texto e as siimulações a seguir tratam da queda livre dos corpos para uma aproximação a baixas velocidades e pequenas alturas, portanto o termo para força de resistência do ár será $F_{ár}=-bv$ e não será levado em conta a diferença na aceleração gravitacional conforme a mudança de altura do corpo.</strong></p>\n",
        "\n",
        "---\n",
        "\n",
        "<h2 style=\"text-align: center;\">Cálculo Numérico: Método de Euler$^{[1][3]}$</h2>\n",
        "\n",
        "---\n",
        "\n",
        "<p style=\"text-align: justify;\">Mesmo existindo diversos métodos analíticos para resolução de EDOs, ainda assim existem equações que se faz necessário a utilização de métodos numéricos para se obter sua resolução. Esses métodos fornecem soluções em forma de tabelas de números $(x_0,y_0),(x_1,y_1)...(x_n,y_n)$. Em um procedimento numérico, basicamente o que acontece é a substituição de um problema com variáveis contínuas por outro problema envolvendo variáveis discretas. O Método de Euler é o procedimento mais simples, mas ele mostra as dificuldades que surgem ao se resolver uma EDO numericamente. Considere um problema de valor inicial descrito pelas equações abaixo:</p>\n"
      ]
    },
    {
      "cell_type": "markdown",
      "metadata": {
        "id": "VvQxZIdljShp"
      },
      "source": [
        "$$\n",
        "  y'=f(x,y)\\\\\n",
        "  y(x_0)=y_0\n",
        "$$"
      ]
    },
    {
      "cell_type": "markdown",
      "metadata": {
        "id": "skipe3fZjShp"
      },
      "source": [
        "<p style=\"text-align: justify;\">Conhecendo os valores de $x_0$ e $y_0$ é possível determinar o coeficiente angular da reta tangente a $y$ no ponto $x_0$, determinando dessa forma $y_{0}'=f(x_0,y_0)$. Conhecendo o coeficiente angular, constroi-se uma reta tangente à solução $y$ no ponto $x_0$, seguindo sobre a reta tangente até encontrar a reta $x=x_1$, determina-se o valor aproximado $y_1$ de $y$ em $x_1$. Tendo assim:</p>"
      ]
    },
    {
      "cell_type": "markdown",
      "metadata": {
        "id": "GXY64HfzjShq"
      },
      "source": [
        "$$\n",
        "  y_1=y_0+y_{0}'(x_1-x_0)\\\\\n",
        "  y_1=y_0+f(x_0,y_0)(x_1-x_0)\n",
        "$$"
      ]
    },
    {
      "cell_type": "markdown",
      "metadata": {
        "id": "gfC4mDPAjShq"
      },
      "source": [
        "<p style=\"text-align: justify;\">Ao ser determinado o valor de $y_1$, calcula-se o valor aproximado do coeficiente angular da tangente, $y_{1}'=f(x_1,y_1)$, a $y$ no ponto $x_1$. Através disso encontra-se o valor de $y_2$.\n",
        "</p>"
      ]
    },
    {
      "cell_type": "markdown",
      "metadata": {
        "id": "FdJvTRUgjShq"
      },
      "source": [
        "$$\n",
        "    y_2=y_1+f(x_1,y_1)(x_2-x_1)\n",
        "$$"
      ]
    },
    {
      "cell_type": "markdown",
      "metadata": {
        "id": "_tEeLb0jjShq"
      },
      "source": [
        "<div style=\"text-align: center;\">\n",
        "<img src=https://i.imgur.com/7QXv9Hh.png\n",
        "width=\"330px\" height=\"200px\">\n",
        "</div>"
      ]
    },
    {
      "cell_type": "markdown",
      "metadata": {
        "id": "EhFEXprgjShq"
      },
      "source": [
        "<p style=\"text-align: justify;\">Continuando sucessivamente, chega-se a:</p>"
      ]
    },
    {
      "cell_type": "markdown",
      "metadata": {
        "id": "zpXnlwL-jShq"
      },
      "source": [
        "$$\n",
        "y_{n+1}=y_n+f(x_n,y_n)(x_{n+1}-x_n)\n",
        "$$"
      ]
    },
    {
      "cell_type": "markdown",
      "metadata": {
        "id": "kTaM8nHgjShq"
      },
      "source": [
        "<p style=\"text-align: justify;\">Se escolher um espaçamento constante para se efetuar o cálculo, isto é, se $x_{n+1}-x_n=h$, para $n=0,1,2,...$, obtém-se a Fórmula de Euler.</p>"
      ]
    },
    {
      "cell_type": "markdown",
      "metadata": {
        "id": "2iydLItNjShr"
      },
      "source": [
        "$$\n",
        "  y_{n+1}=y_n+h\\cdot f(x_n,y_n)\\\\\n",
        "  x_{n+1}=x_{n}+h\n",
        "$$"
      ]
    },
    {
      "cell_type": "markdown",
      "metadata": {
        "id": "1jMcIn8h0Y-Z"
      },
      "source": [
        "<p style=\"text-align: justify;\">Abaixo está implementado o Método de Euler computacionalmente através da linguagem de programação Python, na primeira célula foi importado as bibliotecas que serão utilizadas durante o código: <code>numpy</code> possuí recursos fundamentais para o cáclulo numérico, <code>matplotlib</code> é usada para plotagem de gráficos e a biblioteca <code>pandas</code> é usada para tratamento de dados atraves de DataFrames</p>"
      ]
    },
    {
      "cell_type": "code",
      "execution_count": 163,
      "metadata": {
        "id": "0QCdT9YmjShr"
      },
      "outputs": [],
      "source": [
        "# importando as bibliotecas\n",
        "import numpy as np\n",
        "import matplotlib.pyplot as plt\n",
        "import pandas as pd"
      ]
    },
    {
      "cell_type": "markdown",
      "metadata": {
        "id": "m-hLO-lo1ezZ"
      },
      "source": [
        "<p style=\"text-align: justify;\">Foi definido uma função <code>euler</code> que depende dos seguintes parâmetros <code>(f, v0, t0, tf, n)</code> onde <code>f</code> é a função a ser aplicado o método, <code>v0</code> é a velocidade inicial do corpo, <code>tf</code> e <code>t0</code> são respectivamente tempo final e tempo inicial e <code>n</code> é o número de passos a serem tomados no Método de Euler. O parâmetro <code>h</code> é definido como a diferença entre os tempos inicial e final, divididos pelo npumeros de passos a serem tomados, o comando <code>t = np.linspace(t0, tf, n+1)</code> vai criar um vetor com tamanho <code>n+1</code>contendo valores igualmente espaçados entre <code>t0</code> e <code>tf</code>.</p>\n",
        "<p style=\"text-align: justify;\">Os comandos <code>v = np.zeros(n+1)</code> e <code>v[0] = v0</code> criam um vetor de tamanho <code>n+1</code> onde o primeiro termo vale <code>v0</code> e os seguintes valem 0, em seguida é implemetado o método de Euler dentro de um laço for e a função irá nos retornar 3 valores: <code>t, v, h</code>.</p>"
      ]
    },
    {
      "cell_type": "code",
      "execution_count": 164,
      "metadata": {
        "id": "dGz-ujnejShs"
      },
      "outputs": [],
      "source": [
        "# definindo o método de euler\n",
        "def euler(f, v0, t0, tf, n):\n",
        "    h = (tf - t0) / n\n",
        "    t = np.linspace(t0, tf, n+1)\n",
        "    v = np.zeros(n+1)\n",
        "    v[0] = v0\n",
        "\n",
        "    for i in range(n):\n",
        "        v[i+1] = v[i] + h * f(v[i])\n",
        "\n",
        "    return t, v, h"
      ]
    },
    {
      "cell_type": "markdown",
      "metadata": {
        "id": "AGIcUI0qjShs"
      },
      "source": [
        "---\n",
        "\n",
        "<h2 style=\"text-align: center;\">Corpos em Queda Livre: Velocidade$^{[2]}$</h2>\n",
        "\n",
        "---\n",
        "\n",
        "<p style=\"txt-align: justify;\">Um dos problemas mais comuns da física é o problema dos corpos em queda livre, quando um corpo está próximo à superfície terrestre, com a resistência do ár desprezada, ele fica sob a ação de uma força constante:</p>"
      ]
    },
    {
      "cell_type": "markdown",
      "metadata": {
        "id": "zP1xKIu_jShs"
      },
      "source": [
        "$$\n",
        "F=mg\n",
        "$$"
      ]
    },
    {
      "cell_type": "markdown",
      "metadata": {
        "id": "CrNFpsy5jShs"
      },
      "source": [
        "<p style=\"text-align: justify;\">a direção positiva do movimento considerado é para baixo, portanto a equação de movimento é:</p>"
      ]
    },
    {
      "cell_type": "markdown",
      "metadata": {
        "id": "pS5OnIb_jShs"
      },
      "source": [
        "$$\n",
        "m\\frac{d^{2}x}{dt^{2}}=mg\n",
        "$$"
      ]
    },
    {
      "cell_type": "markdown",
      "metadata": {
        "id": "FcpBztI5jShs"
      },
      "source": [
        "<p style=\"text-align:justify;\">Incluindo os efeitos de uma resistência do ár proporcional a $v$, a força total que atuará nos corpos em queda livre será:</p>\n",
        "\n",
        "$$\n",
        "F=mg-bv\n",
        "$$"
      ]
    },
    {
      "cell_type": "markdown",
      "metadata": {
        "id": "DE_uZtMbjSht"
      },
      "source": [
        "<p style=\"text-align: justify;\">A constante $b$ depende da densidade e da forma do material que forma o corpo em queda, assim como também da viscosidade do fluído em que o corpo esta imerso. Como a resistência do ár é uma força dependente da velocidade, teremos uma força do tipo $F(v)$</p>\n",
        "\n",
        "$$\n",
        "m\\frac{dv}{dt}=mg-bv\n",
        "$$"
      ]
    },
    {
      "cell_type": "markdown",
      "metadata": {
        "id": "nwvsFBo5jSht"
      },
      "source": [
        "<p style=\"text-align: justify\">Tomando $v_{0}=0$ em $t=0$, a solução analítica desse problema pode ser encontrado atraves do seguinte método:</p>\n",
        "\n",
        "$$\n",
        "\\int_{0}^{v}\\frac{dv}{v+(mg/b)}=-\\frac{bt}{m}\n",
        "$$"
      ]
    },
    {
      "cell_type": "markdown",
      "metadata": {
        "id": "ZvnSIEL8jSht"
      },
      "source": [
        "<p style=\"text-align: justify;\">Aplicando o método a nossa equação de movimento, encontramos uma solução do tipo:</p>\n",
        "\n",
        "$$\n",
        "v(t)=\\frac{mg}{b}(1-e^{-bt/m})\n",
        "$$"
      ]
    },
    {
      "cell_type": "markdown",
      "source": [
        ">---\n",
        "><h2 style='text-align: center;'>Desenvolvimento da Solução Analítica para a Velocidade</h2>\n",
        ">\n",
        ">---\n",
        ">$$\\int_{0}^{v} \\frac{dv}{mg-bv} = \\frac{t}{m}$$\n",
        ">\n",
        ">Pelo método da substituição temos:\n",
        ">\n",
        ">$$u = mg - bv$$\n",
        ">\n",
        ">$$du = -bdv$$\n",
        ">Portanto a integral fica:\n",
        ">\n",
        ">$$\\int_{mg}^{mg-bv}-\\frac{du}{ub}= \\frac{t}{m}$$\n",
        ">\\\n",
        ">$$-\\frac{1}{b}\\int_{mg}^{mg-bv}\\frac{du}{u} = \\frac{t}{m}$$\n",
        ">\\\n",
        ">$$\\int_{mg}^{mg-bv}\\frac{du}{u} = -\\frac{bt}{m}$$\n",
        ">\\\n",
        ">$$ln(u)|_{mg}^{mg-bv} = -\\frac{bt}{m}$$\n",
        ">\\\n",
        ">$$ln(\\frac{mg-bv}{mg}) = -\\frac{bt}{m}$$\n",
        ">\\\n",
        ">$$ln(1 - \\frac{bv}{mg}) = -\\frac{bt}{m}$$\n",
        ">\\\n",
        ">$$1 - \\frac{bv}{mg} = e^{-bt/m}$$\n",
        ">\\\n",
        ">$$v = \\frac{mg}{b}(1 - e^{-bt/m})$$"
      ],
      "metadata": {
        "id": "tna1cJojF1Sx"
      }
    },
    {
      "cell_type": "markdown",
      "metadata": {
        "id": "BMiav3RmjSht"
      },
      "source": [
        "---\n",
        "\n",
        "<h3 style=\"text-align: center\">Corpos em Queda Livre: Solução Numérica para a Velocidade$^{[1][2]}$</h3>\n",
        "\n",
        "---\n",
        "\n",
        "<p style=\"text-align: justify;\">Já conheceindo a equação de movimento dos corpos em queda livre é possível determinar uma Equação Diferencial Ordinária (EDO) que determinará a solução para o problema, a equação para o caso da velocidade dos corpos em queda livre será:</p>\n",
        "\n",
        "$$\n",
        "v'-g+\\frac{b}{m}v=0\n",
        "$$\n",
        "\n",
        "<p style=\"text-align: justify;\">Abaixo estão definidos as contantes <code>m</code>, <code>g</code> e <code>b</code> e as funções <code>fv</code> e <code>fvr</code>, a primeira é a EDO a ser solucionada pelo Método de Euler e a segunda é a solução analítica para o problema.</p>"
      ]
    },
    {
      "cell_type": "code",
      "execution_count": 165,
      "metadata": {
        "id": "to1reLRNjSht"
      },
      "outputs": [],
      "source": [
        "# definindo as constantes e as funções\n",
        "m = 80.0\n",
        "g = 9.80\n",
        "b = 0.47\n",
        "\n",
        "def fv(v):\n",
        "    return g - (b * v) / m\n",
        "\n",
        "def fvr(t):\n",
        "    return (m*g/b)*(1-np.exp(-t*b/m))"
      ]
    },
    {
      "cell_type": "markdown",
      "metadata": {
        "id": "dagKVpy_AEXQ"
      },
      "source": [
        "<p style=\"text-align: justify;\">Ao chamar a função <code>euler</code> para solucionar a EDO <code>fv</code> ela nos retorna os valores de <code>t, v, h</code> e armazena os valores da solução analítica na variável <code>real_v</code>, em seguida atraves da biblioteca <code>pandas</code> é gerado uma tabela com os 10 primeiros pontos das duas soluções para fins comparativos usando a função <code>DataFrame</code>.</p>"
      ]
    },
    {
      "cell_type": "code",
      "execution_count": 166,
      "metadata": {
        "colab": {
          "base_uri": "https://localhost:8080/",
          "height": 363
        },
        "id": "eG77dGbVjSht",
        "outputId": "b434dca9-e3cb-497f-95d5-4613c3229260"
      },
      "outputs": [
        {
          "output_type": "execute_result",
          "data": {
            "text/plain": [
              "      v real      Euler    h      erro\n",
              "0   0.000000   0.000000  0.5  0.000000\n",
              "1   4.892810   4.900000  0.5  0.007190\n",
              "2   9.771269   9.785606  0.5  0.014337\n",
              "3  14.635418  14.656861  0.5  0.021443\n",
              "4  19.485300  19.513807  0.5  0.028507\n",
              "5  24.320956  24.356485  0.5  0.035529\n",
              "6  29.142428  29.184938  0.5  0.042510\n",
              "7  33.949758  33.999207  0.5  0.049449\n",
              "8  38.742987  38.799334  0.5  0.056347\n",
              "9  43.522157  43.585361  0.5  0.063204"
            ],
            "text/html": [
              "\n",
              "  <div id=\"df-792895c1-cdaa-4212-bc89-2b30c69cfa42\" class=\"colab-df-container\">\n",
              "    <div>\n",
              "<style scoped>\n",
              "    .dataframe tbody tr th:only-of-type {\n",
              "        vertical-align: middle;\n",
              "    }\n",
              "\n",
              "    .dataframe tbody tr th {\n",
              "        vertical-align: top;\n",
              "    }\n",
              "\n",
              "    .dataframe thead th {\n",
              "        text-align: right;\n",
              "    }\n",
              "</style>\n",
              "<table border=\"1\" class=\"dataframe\">\n",
              "  <thead>\n",
              "    <tr style=\"text-align: right;\">\n",
              "      <th></th>\n",
              "      <th>v real</th>\n",
              "      <th>Euler</th>\n",
              "      <th>h</th>\n",
              "      <th>erro</th>\n",
              "    </tr>\n",
              "  </thead>\n",
              "  <tbody>\n",
              "    <tr>\n",
              "      <th>0</th>\n",
              "      <td>0.000000</td>\n",
              "      <td>0.000000</td>\n",
              "      <td>0.5</td>\n",
              "      <td>0.000000</td>\n",
              "    </tr>\n",
              "    <tr>\n",
              "      <th>1</th>\n",
              "      <td>4.892810</td>\n",
              "      <td>4.900000</td>\n",
              "      <td>0.5</td>\n",
              "      <td>0.007190</td>\n",
              "    </tr>\n",
              "    <tr>\n",
              "      <th>2</th>\n",
              "      <td>9.771269</td>\n",
              "      <td>9.785606</td>\n",
              "      <td>0.5</td>\n",
              "      <td>0.014337</td>\n",
              "    </tr>\n",
              "    <tr>\n",
              "      <th>3</th>\n",
              "      <td>14.635418</td>\n",
              "      <td>14.656861</td>\n",
              "      <td>0.5</td>\n",
              "      <td>0.021443</td>\n",
              "    </tr>\n",
              "    <tr>\n",
              "      <th>4</th>\n",
              "      <td>19.485300</td>\n",
              "      <td>19.513807</td>\n",
              "      <td>0.5</td>\n",
              "      <td>0.028507</td>\n",
              "    </tr>\n",
              "    <tr>\n",
              "      <th>5</th>\n",
              "      <td>24.320956</td>\n",
              "      <td>24.356485</td>\n",
              "      <td>0.5</td>\n",
              "      <td>0.035529</td>\n",
              "    </tr>\n",
              "    <tr>\n",
              "      <th>6</th>\n",
              "      <td>29.142428</td>\n",
              "      <td>29.184938</td>\n",
              "      <td>0.5</td>\n",
              "      <td>0.042510</td>\n",
              "    </tr>\n",
              "    <tr>\n",
              "      <th>7</th>\n",
              "      <td>33.949758</td>\n",
              "      <td>33.999207</td>\n",
              "      <td>0.5</td>\n",
              "      <td>0.049449</td>\n",
              "    </tr>\n",
              "    <tr>\n",
              "      <th>8</th>\n",
              "      <td>38.742987</td>\n",
              "      <td>38.799334</td>\n",
              "      <td>0.5</td>\n",
              "      <td>0.056347</td>\n",
              "    </tr>\n",
              "    <tr>\n",
              "      <th>9</th>\n",
              "      <td>43.522157</td>\n",
              "      <td>43.585361</td>\n",
              "      <td>0.5</td>\n",
              "      <td>0.063204</td>\n",
              "    </tr>\n",
              "  </tbody>\n",
              "</table>\n",
              "</div>\n",
              "    <div class=\"colab-df-buttons\">\n",
              "\n",
              "  <div class=\"colab-df-container\">\n",
              "    <button class=\"colab-df-convert\" onclick=\"convertToInteractive('df-792895c1-cdaa-4212-bc89-2b30c69cfa42')\"\n",
              "            title=\"Convert this dataframe to an interactive table.\"\n",
              "            style=\"display:none;\">\n",
              "\n",
              "  <svg xmlns=\"http://www.w3.org/2000/svg\" height=\"24px\" viewBox=\"0 -960 960 960\">\n",
              "    <path d=\"M120-120v-720h720v720H120Zm60-500h600v-160H180v160Zm220 220h160v-160H400v160Zm0 220h160v-160H400v160ZM180-400h160v-160H180v160Zm440 0h160v-160H620v160ZM180-180h160v-160H180v160Zm440 0h160v-160H620v160Z\"/>\n",
              "  </svg>\n",
              "    </button>\n",
              "\n",
              "  <style>\n",
              "    .colab-df-container {\n",
              "      display:flex;\n",
              "      gap: 12px;\n",
              "    }\n",
              "\n",
              "    .colab-df-convert {\n",
              "      background-color: #E8F0FE;\n",
              "      border: none;\n",
              "      border-radius: 50%;\n",
              "      cursor: pointer;\n",
              "      display: none;\n",
              "      fill: #1967D2;\n",
              "      height: 32px;\n",
              "      padding: 0 0 0 0;\n",
              "      width: 32px;\n",
              "    }\n",
              "\n",
              "    .colab-df-convert:hover {\n",
              "      background-color: #E2EBFA;\n",
              "      box-shadow: 0px 1px 2px rgba(60, 64, 67, 0.3), 0px 1px 3px 1px rgba(60, 64, 67, 0.15);\n",
              "      fill: #174EA6;\n",
              "    }\n",
              "\n",
              "    .colab-df-buttons div {\n",
              "      margin-bottom: 4px;\n",
              "    }\n",
              "\n",
              "    [theme=dark] .colab-df-convert {\n",
              "      background-color: #3B4455;\n",
              "      fill: #D2E3FC;\n",
              "    }\n",
              "\n",
              "    [theme=dark] .colab-df-convert:hover {\n",
              "      background-color: #434B5C;\n",
              "      box-shadow: 0px 1px 3px 1px rgba(0, 0, 0, 0.15);\n",
              "      filter: drop-shadow(0px 1px 2px rgba(0, 0, 0, 0.3));\n",
              "      fill: #FFFFFF;\n",
              "    }\n",
              "  </style>\n",
              "\n",
              "    <script>\n",
              "      const buttonEl =\n",
              "        document.querySelector('#df-792895c1-cdaa-4212-bc89-2b30c69cfa42 button.colab-df-convert');\n",
              "      buttonEl.style.display =\n",
              "        google.colab.kernel.accessAllowed ? 'block' : 'none';\n",
              "\n",
              "      async function convertToInteractive(key) {\n",
              "        const element = document.querySelector('#df-792895c1-cdaa-4212-bc89-2b30c69cfa42');\n",
              "        const dataTable =\n",
              "          await google.colab.kernel.invokeFunction('convertToInteractive',\n",
              "                                                    [key], {});\n",
              "        if (!dataTable) return;\n",
              "\n",
              "        const docLinkHtml = 'Like what you see? Visit the ' +\n",
              "          '<a target=\"_blank\" href=https://colab.research.google.com/notebooks/data_table.ipynb>data table notebook</a>'\n",
              "          + ' to learn more about interactive tables.';\n",
              "        element.innerHTML = '';\n",
              "        dataTable['output_type'] = 'display_data';\n",
              "        await google.colab.output.renderOutput(dataTable, element);\n",
              "        const docLink = document.createElement('div');\n",
              "        docLink.innerHTML = docLinkHtml;\n",
              "        element.appendChild(docLink);\n",
              "      }\n",
              "    </script>\n",
              "  </div>\n",
              "\n",
              "\n",
              "<div id=\"df-c4878e20-5154-4302-aa26-8191f7fcc88a\">\n",
              "  <button class=\"colab-df-quickchart\" onclick=\"quickchart('df-c4878e20-5154-4302-aa26-8191f7fcc88a')\"\n",
              "            title=\"Suggest charts\"\n",
              "            style=\"display:none;\">\n",
              "\n",
              "<svg xmlns=\"http://www.w3.org/2000/svg\" height=\"24px\"viewBox=\"0 0 24 24\"\n",
              "     width=\"24px\">\n",
              "    <g>\n",
              "        <path d=\"M19 3H5c-1.1 0-2 .9-2 2v14c0 1.1.9 2 2 2h14c1.1 0 2-.9 2-2V5c0-1.1-.9-2-2-2zM9 17H7v-7h2v7zm4 0h-2V7h2v10zm4 0h-2v-4h2v4z\"/>\n",
              "    </g>\n",
              "</svg>\n",
              "  </button>\n",
              "\n",
              "<style>\n",
              "  .colab-df-quickchart {\n",
              "      --bg-color: #E8F0FE;\n",
              "      --fill-color: #1967D2;\n",
              "      --hover-bg-color: #E2EBFA;\n",
              "      --hover-fill-color: #174EA6;\n",
              "      --disabled-fill-color: #AAA;\n",
              "      --disabled-bg-color: #DDD;\n",
              "  }\n",
              "\n",
              "  [theme=dark] .colab-df-quickchart {\n",
              "      --bg-color: #3B4455;\n",
              "      --fill-color: #D2E3FC;\n",
              "      --hover-bg-color: #434B5C;\n",
              "      --hover-fill-color: #FFFFFF;\n",
              "      --disabled-bg-color: #3B4455;\n",
              "      --disabled-fill-color: #666;\n",
              "  }\n",
              "\n",
              "  .colab-df-quickchart {\n",
              "    background-color: var(--bg-color);\n",
              "    border: none;\n",
              "    border-radius: 50%;\n",
              "    cursor: pointer;\n",
              "    display: none;\n",
              "    fill: var(--fill-color);\n",
              "    height: 32px;\n",
              "    padding: 0;\n",
              "    width: 32px;\n",
              "  }\n",
              "\n",
              "  .colab-df-quickchart:hover {\n",
              "    background-color: var(--hover-bg-color);\n",
              "    box-shadow: 0 1px 2px rgba(60, 64, 67, 0.3), 0 1px 3px 1px rgba(60, 64, 67, 0.15);\n",
              "    fill: var(--button-hover-fill-color);\n",
              "  }\n",
              "\n",
              "  .colab-df-quickchart-complete:disabled,\n",
              "  .colab-df-quickchart-complete:disabled:hover {\n",
              "    background-color: var(--disabled-bg-color);\n",
              "    fill: var(--disabled-fill-color);\n",
              "    box-shadow: none;\n",
              "  }\n",
              "\n",
              "  .colab-df-spinner {\n",
              "    border: 2px solid var(--fill-color);\n",
              "    border-color: transparent;\n",
              "    border-bottom-color: var(--fill-color);\n",
              "    animation:\n",
              "      spin 1s steps(1) infinite;\n",
              "  }\n",
              "\n",
              "  @keyframes spin {\n",
              "    0% {\n",
              "      border-color: transparent;\n",
              "      border-bottom-color: var(--fill-color);\n",
              "      border-left-color: var(--fill-color);\n",
              "    }\n",
              "    20% {\n",
              "      border-color: transparent;\n",
              "      border-left-color: var(--fill-color);\n",
              "      border-top-color: var(--fill-color);\n",
              "    }\n",
              "    30% {\n",
              "      border-color: transparent;\n",
              "      border-left-color: var(--fill-color);\n",
              "      border-top-color: var(--fill-color);\n",
              "      border-right-color: var(--fill-color);\n",
              "    }\n",
              "    40% {\n",
              "      border-color: transparent;\n",
              "      border-right-color: var(--fill-color);\n",
              "      border-top-color: var(--fill-color);\n",
              "    }\n",
              "    60% {\n",
              "      border-color: transparent;\n",
              "      border-right-color: var(--fill-color);\n",
              "    }\n",
              "    80% {\n",
              "      border-color: transparent;\n",
              "      border-right-color: var(--fill-color);\n",
              "      border-bottom-color: var(--fill-color);\n",
              "    }\n",
              "    90% {\n",
              "      border-color: transparent;\n",
              "      border-bottom-color: var(--fill-color);\n",
              "    }\n",
              "  }\n",
              "</style>\n",
              "\n",
              "  <script>\n",
              "    async function quickchart(key) {\n",
              "      const quickchartButtonEl =\n",
              "        document.querySelector('#' + key + ' button');\n",
              "      quickchartButtonEl.disabled = true;  // To prevent multiple clicks.\n",
              "      quickchartButtonEl.classList.add('colab-df-spinner');\n",
              "      try {\n",
              "        const charts = await google.colab.kernel.invokeFunction(\n",
              "            'suggestCharts', [key], {});\n",
              "      } catch (error) {\n",
              "        console.error('Error during call to suggestCharts:', error);\n",
              "      }\n",
              "      quickchartButtonEl.classList.remove('colab-df-spinner');\n",
              "      quickchartButtonEl.classList.add('colab-df-quickchart-complete');\n",
              "    }\n",
              "    (() => {\n",
              "      let quickchartButtonEl =\n",
              "        document.querySelector('#df-c4878e20-5154-4302-aa26-8191f7fcc88a button');\n",
              "      quickchartButtonEl.style.display =\n",
              "        google.colab.kernel.accessAllowed ? 'block' : 'none';\n",
              "    })();\n",
              "  </script>\n",
              "</div>\n",
              "    </div>\n",
              "  </div>\n"
            ]
          },
          "metadata": {},
          "execution_count": 166
        }
      ],
      "source": [
        "# gerar uma tabela com a biblioteca panda\n",
        "t, v, h = euler(fv, 0.0, 0.0, 1000, 2000)\n",
        "real_v = fvr(t)\n",
        "erro1 = abs(v-real_v)\n",
        "\n",
        "data = {'v real': real_v, 'Euler': v, 'h': h, 'erro': erro1}\n",
        "pd.DataFrame(data).head(10)"
      ]
    },
    {
      "cell_type": "markdown",
      "metadata": {
        "id": "fQxI8C8gjShu"
      },
      "source": [
        "---\n",
        "\n",
        "<h3 style=\"text-align: center;\">Corpos em Queda Livre: Velocidade Terminal$^{[1][2]}$</h3>\n",
        "\n",
        "---"
      ]
    },
    {
      "cell_type": "markdown",
      "metadata": {
        "id": "FnK9VO7RjShv"
      },
      "source": [
        "<p style=\"text-align: justify\">Ao analisar a solução analítica para o problema dos corpos em queda livre, pode-se perceber que quando $t \\rightarrow \\infty$, a velocidade tenderá a $v=mg/b$. reescrevendo a expressão ficará mais fácil de visualizar isso:</p>\n",
        "\n",
        "$$\n",
        "v=\\frac{mg}{b} - \\frac{mg}{b}\\cdot\\frac{1}{e^{bt/m}}\n",
        "$$\n",
        "\n",
        "<p style=\"text-align: justify;\">Aplicando o limite na expressão acima, temos:</p>\n",
        "\n",
        "$$\n",
        "\\lim_{t\\rightarrow\\infty}\\frac{mg}{b} - \\frac{mg}{b}\\cdot\\frac{1}{e^{bt/m}}=\\frac{mg}{b} = vl\n",
        "$$"
      ]
    },
    {
      "cell_type": "markdown",
      "metadata": {
        "id": "XDQxLx7qjShv"
      },
      "source": [
        "<p style=\"text-align: justify;\">A velocidade $mg/b$ é chamada de velocidade terminal, e um corpo alcança essa velocidade quando as forças gravitacionais e de resistência de ár se equilibram."
      ]
    },
    {
      "cell_type": "code",
      "execution_count": 167,
      "metadata": {
        "id": "OVXR1lGpjShv"
      },
      "outputs": [],
      "source": [
        "# verificando a velocidade limite\n",
        "vl=[g*m/b]*len(t)"
      ]
    },
    {
      "cell_type": "code",
      "execution_count": 168,
      "metadata": {
        "colab": {
          "base_uri": "https://localhost:8080/",
          "height": 472
        },
        "id": "B_nlelS_jShv",
        "outputId": "d7fc6e9f-143b-4d02-b24f-50249fe80664"
      },
      "outputs": [
        {
          "output_type": "display_data",
          "data": {
            "text/plain": [
              "<Figure size 640x480 with 1 Axes>"
            ],
            "image/png": "[encoded data removed]"
          },
          "metadata": {}
        }
      ],
      "source": [
        "# gerar um gráfico com a biblioteca matplotlib\n",
        "plt.plot(t, real_v,label='val. real')\n",
        "plt.plot(t, v,'--',label='euler')\n",
        "plt.plot(t, vl, '--',label='vel. limite')\n",
        "plt.xlabel('Tempo (s)')\n",
        "plt.ylabel('Velocidade (m/s)')\n",
        "plt.title('Velocidade em Função do Tempo')\n",
        "plt.grid()\n",
        "plt.legend()\n",
        "plt.show()"
      ]
    },
    {
      "cell_type": "markdown",
      "source": [
        "<p style='text-align: justify;'>Graficamente pode-se viualizar a velocidade limite, representada pelo pontilhado laranja, percebe-se que conforme o tempo aumenta mais próximo da velocidade limite os corpos chegam, corroborando a tese de que conforme o tempo tende ao infinito a velocidade dos corpos em queda se mantém constantes após um equilíbrio entre a força gravitacional e a força de arraste do ár.</p>"
      ],
      "metadata": {
        "id": "BaPRr5j6B1KP"
      }
    },
    {
      "cell_type": "markdown",
      "metadata": {
        "id": "BgmoPf_XjShv"
      },
      "source": [
        "---\n",
        "\n",
        "<h2 style='text-align: center;'>Scipy: Ordinary Diferential Equation Integration (odeint)$^{[5]}$</h2>\n",
        "\n",
        "---\n",
        "\n",
        "<p style='text-align: justify;'>A biblioteca <code>scipy</code> juntamente com a <code>numpy</code> fornece suporte para execução de tarefas científicas, ela disponibiliza suporte a integração numérica, transformada de Fourier, algebra linear entre outras áreas importantes do cálculo. Além disso o módulo utilizado no código abaixo <code>scipy.integrate</code> fornece a função <code>odeint</code> que é muito utilizada para resolução de EDO's.</p>"
      ]
    },
    {
      "cell_type": "code",
      "execution_count": 169,
      "metadata": {
        "id": "3VpaxFrCjShw"
      },
      "outputs": [],
      "source": [
        "# importando as bibliotecas\n",
        "import numpy as np\n",
        "import matplotlib.pyplot as plt\n",
        "from scipy.integrate import odeint"
      ]
    },
    {
      "cell_type": "code",
      "execution_count": 170,
      "metadata": {
        "id": "Lve2kPMvjShw"
      },
      "outputs": [],
      "source": [
        "# definindo as funções e suas constantes\n",
        "m = 80.0\n",
        "g = 9.80\n",
        "b = 0.47\n",
        "\n",
        "def fv(v, t, b, g, m):\n",
        "    return g - (b * v) / m\n",
        "\n",
        "def v(t):\n",
        "    return (m*g/b)*(1-np.exp(-t*b/m))"
      ]
    },
    {
      "cell_type": "markdown",
      "source": [
        "<p style='text-align: justify;'>Os métodos utilizados pelo <code>odeint</code> são majoritariamente o LSODA e em alguns casos o método Adams-Bashforth-Moulton. O método LSODA é um passo adaptativo, poís utiliza desde métodos explícitos, aqueles que dependem de um ponto anterior para calcular o próximo ponto (como o Método de Euler), quanto métodos implícitos, aqueles que dependem de uma equação algébrica para serem determinados os pontos. A escolha desses métodos depende do tipo de EDO a ser solucionada, e a função <code>odeint</code> aplica o melhor método para a EDO selecionada.</p>"
      ],
      "metadata": {
        "id": "EOER7qVD9xKq"
      }
    },
    {
      "cell_type": "code",
      "execution_count": 171,
      "metadata": {
        "id": "F-TpTwZbjShw"
      },
      "outputs": [],
      "source": [
        "# chamando a função odeint\n",
        "t = np.linspace(0, 1500, 2000)\n",
        "v0 = 0.0\n",
        "\n",
        "sol = odeint(fv, v0, t, args=(b, g, m))\n",
        "v_ = v(t)"
      ]
    },
    {
      "cell_type": "code",
      "execution_count": 172,
      "metadata": {
        "id": "HkB6QllEUD40"
      },
      "outputs": [],
      "source": [
        "# verificando a velocidade limite\n",
        "vl=[g*m/b]*len(t)"
      ]
    },
    {
      "cell_type": "code",
      "execution_count": 173,
      "metadata": {
        "colab": {
          "base_uri": "https://localhost:8080/",
          "height": 363
        },
        "id": "E7g_wa0ZjShw",
        "outputId": "7d643600-5fad-47ae-a382-a26064abe06f"
      },
      "outputs": [
        {
          "output_type": "execute_result",
          "data": {
            "text/plain": [
              "      v real     odeint          erro\n",
              "0   0.000000   0.000000  0.000000e+00\n",
              "1   7.337491   7.337491  1.158604e-08\n",
              "2  14.642707  14.642707  1.158896e-08\n",
              "3  21.915789  21.915789  1.202386e-08\n",
              "4  29.156878  29.156878  1.236501e-08\n",
              "5  36.366116  36.366116  1.351689e-08\n",
              "6  43.543642  43.543642  1.400041e-08\n",
              "7  50.689596  50.689596  1.515036e-08\n",
              "8  57.804116  57.804116  1.566960e-08\n",
              "9  64.887342  64.887342  1.670975e-08"
            ],
            "text/html": [
              "\n",
              "  <div id=\"df-607e4b2e-5742-47a3-9de9-02f3bbc1ff76\" class=\"colab-df-container\">\n",
              "    <div>\n",
              "<style scoped>\n",
              "    .dataframe tbody tr th:only-of-type {\n",
              "        vertical-align: middle;\n",
              "    }\n",
              "\n",
              "    .dataframe tbody tr th {\n",
              "        vertical-align: top;\n",
              "    }\n",
              "\n",
              "    .dataframe thead th {\n",
              "        text-align: right;\n",
              "    }\n",
              "</style>\n",
              "<table border=\"1\" class=\"dataframe\">\n",
              "  <thead>\n",
              "    <tr style=\"text-align: right;\">\n",
              "      <th></th>\n",
              "      <th>v real</th>\n",
              "      <th>odeint</th>\n",
              "      <th>erro</th>\n",
              "    </tr>\n",
              "  </thead>\n",
              "  <tbody>\n",
              "    <tr>\n",
              "      <th>0</th>\n",
              "      <td>0.000000</td>\n",
              "      <td>0.000000</td>\n",
              "      <td>0.000000e+00</td>\n",
              "    </tr>\n",
              "    <tr>\n",
              "      <th>1</th>\n",
              "      <td>7.337491</td>\n",
              "      <td>7.337491</td>\n",
              "      <td>1.158604e-08</td>\n",
              "    </tr>\n",
              "    <tr>\n",
              "      <th>2</th>\n",
              "      <td>14.642707</td>\n",
              "      <td>14.642707</td>\n",
              "      <td>1.158896e-08</td>\n",
              "    </tr>\n",
              "    <tr>\n",
              "      <th>3</th>\n",
              "      <td>21.915789</td>\n",
              "      <td>21.915789</td>\n",
              "      <td>1.202386e-08</td>\n",
              "    </tr>\n",
              "    <tr>\n",
              "      <th>4</th>\n",
              "      <td>29.156878</td>\n",
              "      <td>29.156878</td>\n",
              "      <td>1.236501e-08</td>\n",
              "    </tr>\n",
              "    <tr>\n",
              "      <th>5</th>\n",
              "      <td>36.366116</td>\n",
              "      <td>36.366116</td>\n",
              "      <td>1.351689e-08</td>\n",
              "    </tr>\n",
              "    <tr>\n",
              "      <th>6</th>\n",
              "      <td>43.543642</td>\n",
              "      <td>43.543642</td>\n",
              "      <td>1.400041e-08</td>\n",
              "    </tr>\n",
              "    <tr>\n",
              "      <th>7</th>\n",
              "      <td>50.689596</td>\n",
              "      <td>50.689596</td>\n",
              "      <td>1.515036e-08</td>\n",
              "    </tr>\n",
              "    <tr>\n",
              "      <th>8</th>\n",
              "      <td>57.804116</td>\n",
              "      <td>57.804116</td>\n",
              "      <td>1.566960e-08</td>\n",
              "    </tr>\n",
              "    <tr>\n",
              "      <th>9</th>\n",
              "      <td>64.887342</td>\n",
              "      <td>64.887342</td>\n",
              "      <td>1.670975e-08</td>\n",
              "    </tr>\n",
              "  </tbody>\n",
              "</table>\n",
              "</div>\n",
              "    <div class=\"colab-df-buttons\">\n",
              "\n",
              "  <div class=\"colab-df-container\">\n",
              "    <button class=\"colab-df-convert\" onclick=\"convertToInteractive('df-607e4b2e-5742-47a3-9de9-02f3bbc1ff76')\"\n",
              "            title=\"Convert this dataframe to an interactive table.\"\n",
              "            style=\"display:none;\">\n",
              "\n",
              "  <svg xmlns=\"http://www.w3.org/2000/svg\" height=\"24px\" viewBox=\"0 -960 960 960\">\n",
              "    <path d=\"M120-120v-720h720v720H120Zm60-500h600v-160H180v160Zm220 220h160v-160H400v160Zm0 220h160v-160H400v160ZM180-400h160v-160H180v160Zm440 0h160v-160H620v160ZM180-180h160v-160H180v160Zm440 0h160v-160H620v160Z\"/>\n",
              "  </svg>\n",
              "    </button>\n",
              "\n",
              "  <style>\n",
              "    .colab-df-container {\n",
              "      display:flex;\n",
              "      gap: 12px;\n",
              "    }\n",
              "\n",
              "    .colab-df-convert {\n",
              "      background-color: #E8F0FE;\n",
              "      border: none;\n",
              "      border-radius: 50%;\n",
              "      cursor: pointer;\n",
              "      display: none;\n",
              "      fill: #1967D2;\n",
              "      height: 32px;\n",
              "      padding: 0 0 0 0;\n",
              "      width: 32px;\n",
              "    }\n",
              "\n",
              "    .colab-df-convert:hover {\n",
              "      background-color: #E2EBFA;\n",
              "      box-shadow: 0px 1px 2px rgba(60, 64, 67, 0.3), 0px 1px 3px 1px rgba(60, 64, 67, 0.15);\n",
              "      fill: #174EA6;\n",
              "    }\n",
              "\n",
              "    .colab-df-buttons div {\n",
              "      margin-bottom: 4px;\n",
              "    }\n",
              "\n",
              "    [theme=dark] .colab-df-convert {\n",
              "      background-color: #3B4455;\n",
              "      fill: #D2E3FC;\n",
              "    }\n",
              "\n",
              "    [theme=dark] .colab-df-convert:hover {\n",
              "      background-color: #434B5C;\n",
              "      box-shadow: 0px 1px 3px 1px rgba(0, 0, 0, 0.15);\n",
              "      filter: drop-shadow(0px 1px 2px rgba(0, 0, 0, 0.3));\n",
              "      fill: #FFFFFF;\n",
              "    }\n",
              "  </style>\n",
              "\n",
              "    <script>\n",
              "      const buttonEl =\n",
              "        document.querySelector('#df-607e4b2e-5742-47a3-9de9-02f3bbc1ff76 button.colab-df-convert');\n",
              "      buttonEl.style.display =\n",
              "        google.colab.kernel.accessAllowed ? 'block' : 'none';\n",
              "\n",
              "      async function convertToInteractive(key) {\n",
              "        const element = document.querySelector('#df-607e4b2e-5742-47a3-9de9-02f3bbc1ff76');\n",
              "        const dataTable =\n",
              "          await google.colab.kernel.invokeFunction('convertToInteractive',\n",
              "                                                    [key], {});\n",
              "        if (!dataTable) return;\n",
              "\n",
              "        const docLinkHtml = 'Like what you see? Visit the ' +\n",
              "          '<a target=\"_blank\" href=https://colab.research.google.com/notebooks/data_table.ipynb>data table notebook</a>'\n",
              "          + ' to learn more about interactive tables.';\n",
              "        element.innerHTML = '';\n",
              "        dataTable['output_type'] = 'display_data';\n",
              "        await google.colab.output.renderOutput(dataTable, element);\n",
              "        const docLink = document.createElement('div');\n",
              "        docLink.innerHTML = docLinkHtml;\n",
              "        element.appendChild(docLink);\n",
              "      }\n",
              "    </script>\n",
              "  </div>\n",
              "\n",
              "\n",
              "<div id=\"df-160491f8-ad9b-403e-a7ec-b3975bec3c87\">\n",
              "  <button class=\"colab-df-quickchart\" onclick=\"quickchart('df-160491f8-ad9b-403e-a7ec-b3975bec3c87')\"\n",
              "            title=\"Suggest charts\"\n",
              "            style=\"display:none;\">\n",
              "\n",
              "<svg xmlns=\"http://www.w3.org/2000/svg\" height=\"24px\"viewBox=\"0 0 24 24\"\n",
              "     width=\"24px\">\n",
              "    <g>\n",
              "        <path d=\"M19 3H5c-1.1 0-2 .9-2 2v14c0 1.1.9 2 2 2h14c1.1 0 2-.9 2-2V5c0-1.1-.9-2-2-2zM9 17H7v-7h2v7zm4 0h-2V7h2v10zm4 0h-2v-4h2v4z\"/>\n",
              "    </g>\n",
              "</svg>\n",
              "  </button>\n",
              "\n",
              "<style>\n",
              "  .colab-df-quickchart {\n",
              "      --bg-color: #E8F0FE;\n",
              "      --fill-color: #1967D2;\n",
              "      --hover-bg-color: #E2EBFA;\n",
              "      --hover-fill-color: #174EA6;\n",
              "      --disabled-fill-color: #AAA;\n",
              "      --disabled-bg-color: #DDD;\n",
              "  }\n",
              "\n",
              "  [theme=dark] .colab-df-quickchart {\n",
              "      --bg-color: #3B4455;\n",
              "      --fill-color: #D2E3FC;\n",
              "      --hover-bg-color: #434B5C;\n",
              "      --hover-fill-color: #FFFFFF;\n",
              "      --disabled-bg-color: #3B4455;\n",
              "      --disabled-fill-color: #666;\n",
              "  }\n",
              "\n",
              "  .colab-df-quickchart {\n",
              "    background-color: var(--bg-color);\n",
              "    border: none;\n",
              "    border-radius: 50%;\n",
              "    cursor: pointer;\n",
              "    display: none;\n",
              "    fill: var(--fill-color);\n",
              "    height: 32px;\n",
              "    padding: 0;\n",
              "    width: 32px;\n",
              "  }\n",
              "\n",
              "  .colab-df-quickchart:hover {\n",
              "    background-color: var(--hover-bg-color);\n",
              "    box-shadow: 0 1px 2px rgba(60, 64, 67, 0.3), 0 1px 3px 1px rgba(60, 64, 67, 0.15);\n",
              "    fill: var(--button-hover-fill-color);\n",
              "  }\n",
              "\n",
              "  .colab-df-quickchart-complete:disabled,\n",
              "  .colab-df-quickchart-complete:disabled:hover {\n",
              "    background-color: var(--disabled-bg-color);\n",
              "    fill: var(--disabled-fill-color);\n",
              "    box-shadow: none;\n",
              "  }\n",
              "\n",
              "  .colab-df-spinner {\n",
              "    border: 2px solid var(--fill-color);\n",
              "    border-color: transparent;\n",
              "    border-bottom-color: var(--fill-color);\n",
              "    animation:\n",
              "      spin 1s steps(1) infinite;\n",
              "  }\n",
              "\n",
              "  @keyframes spin {\n",
              "    0% {\n",
              "      border-color: transparent;\n",
              "      border-bottom-color: var(--fill-color);\n",
              "      border-left-color: var(--fill-color);\n",
              "    }\n",
              "    20% {\n",
              "      border-color: transparent;\n",
              "      border-left-color: var(--fill-color);\n",
              "      border-top-color: var(--fill-color);\n",
              "    }\n",
              "    30% {\n",
              "      border-color: transparent;\n",
              "      border-left-color: var(--fill-color);\n",
              "      border-top-color: var(--fill-color);\n",
              "      border-right-color: var(--fill-color);\n",
              "    }\n",
              "    40% {\n",
              "      border-color: transparent;\n",
              "      border-right-color: var(--fill-color);\n",
              "      border-top-color: var(--fill-color);\n",
              "    }\n",
              "    60% {\n",
              "      border-color: transparent;\n",
              "      border-right-color: var(--fill-color);\n",
              "    }\n",
              "    80% {\n",
              "      border-color: transparent;\n",
              "      border-right-color: var(--fill-color);\n",
              "      border-bottom-color: var(--fill-color);\n",
              "    }\n",
              "    90% {\n",
              "      border-color: transparent;\n",
              "      border-bottom-color: var(--fill-color);\n",
              "    }\n",
              "  }\n",
              "</style>\n",
              "\n",
              "  <script>\n",
              "    async function quickchart(key) {\n",
              "      const quickchartButtonEl =\n",
              "        document.querySelector('#' + key + ' button');\n",
              "      quickchartButtonEl.disabled = true;  // To prevent multiple clicks.\n",
              "      quickchartButtonEl.classList.add('colab-df-spinner');\n",
              "      try {\n",
              "        const charts = await google.colab.kernel.invokeFunction(\n",
              "            'suggestCharts', [key], {});\n",
              "      } catch (error) {\n",
              "        console.error('Error during call to suggestCharts:', error);\n",
              "      }\n",
              "      quickchartButtonEl.classList.remove('colab-df-spinner');\n",
              "      quickchartButtonEl.classList.add('colab-df-quickchart-complete');\n",
              "    }\n",
              "    (() => {\n",
              "      let quickchartButtonEl =\n",
              "        document.querySelector('#df-160491f8-ad9b-403e-a7ec-b3975bec3c87 button');\n",
              "      quickchartButtonEl.style.display =\n",
              "        google.colab.kernel.accessAllowed ? 'block' : 'none';\n",
              "    })();\n",
              "  </script>\n",
              "</div>\n",
              "    </div>\n",
              "  </div>\n"
            ]
          },
          "metadata": {},
          "execution_count": 173
        }
      ],
      "source": [
        "# Selecionando a primeira coluna de 'sol'\n",
        "sol_v = sol[:, 0]\n",
        "\n",
        "# Calculando o erro comparando 'sol_first_column' com 'v_'\n",
        "erro2 = abs(sol_v - v_)\n",
        "\n",
        "# Criando o DataFrame com 'sol_first_column', 'v_' e 'erro'\n",
        "data_1 = {'v real': sol_v, 'odeint': v_, 'erro': erro2}\n",
        "pd.DataFrame(data_1).head(10)"
      ]
    },
    {
      "cell_type": "code",
      "execution_count": 174,
      "metadata": {
        "id": "Cg-d4jaljShx",
        "colab": {
          "base_uri": "https://localhost:8080/",
          "height": 472
        },
        "outputId": "63566dfb-7bd3-498a-a406-6809315e0228"
      },
      "outputs": [
        {
          "output_type": "display_data",
          "data": {
            "text/plain": [
              "<Figure size 640x480 with 1 Axes>"
            ],
            "image/png": "[encoded data removed]"
          },
          "metadata": {}
        }
      ],
      "source": [
        "# plotando o gráfico\n",
        "plt.plot(t,v_,label='val. real')\n",
        "plt.plot(t,vl,'--',label='vel. limite')\n",
        "plt.plot(t, sol, '--',label='euler')\n",
        "plt.xlabel('Tempo (s)')\n",
        "plt.ylabel('Velocidade (m/s)')\n",
        "plt.title('Velocidade em Função do Tempo')\n",
        "plt.legend()\n",
        "plt.grid()\n",
        "plt.show()"
      ]
    },
    {
      "cell_type": "markdown",
      "source": [
        "---\n",
        "\n",
        "<h2 style='text-align: center;'>Corpos em Queda Livre: Posição$^{[2]}$</h2>\n",
        "\n",
        "---\n",
        "\n",
        "<p style='text-align: justify;'>Conhecendo a expressão analítica para a velocidade é possível calcular a solução analítica para a posição de um corpo em queda livre em função do tempo, a expressão analítica para a velocidade é dada por:</p>\n",
        "\n",
        "$$\n",
        "v=\\frac{dx}{dt}=\\frac{mg}{b}(1-e^{-bt/m})\n",
        "$$\n",
        "\n",
        "<p style='text-align: justify'>Tomando $x_{0} = 0$ em $t_{0}= 0$, a EDO pode ser resolvida pelo seguinte método abaixo:</p>\n",
        "\n",
        "$$\n",
        "\\int_{0}^{x}dx=\\int_{0}^{t}\\frac{mg}{b}(1-e^{-bt/m})dt\n",
        "$$\n",
        "\n",
        "<p style='text-align: justify;'>Aplicando esse método a equação de velocidade encontramos uma solução para a posição do tipo:</p>\n",
        "\n",
        "$$\n",
        "x(t)=\\frac{m^{2}g}{b^{2}}(e^{-bt/m}+\\frac{b}{m}t-1)\n",
        "$$"
      ],
      "metadata": {
        "id": "bauBbN-lnXBr"
      }
    },
    {
      "cell_type": "markdown",
      "source": [
        ">---\n",
        "><h2 style='text-align: center;'>Desenvolvimento da Solução Analítica para a Posição</h2>\n",
        ">\n",
        ">---\n",
        ">\\\n",
        ">$$\\int_{0}^{x}dx=\\int_{0}^{t}\\frac{mg}{b}(1-e^{-bt/m})dt$$\n",
        ">\\\n",
        ">$$x|_{0}^{x}= \\frac{mg}{b}\\int_{0}^{t}1-e^{-bt/m}dt$$\n",
        ">\\\n",
        ">$$x = \\frac{mg}{b}(\\int_{0}^{t}dt-\\int_{0}^{t}e^{-bt/m}dt)$$\n",
        ">\n",
        "><p style='text-align: justify;'>Pelo método da substituição temos:</p>\n",
        ">\n",
        ">$$u = -\\frac{bt}{m}$$\n",
        ">\\\n",
        ">$$dt=-\\frac{m}{b}du$$\n",
        ">\n",
        "><p style='text-align: justify;'>aplicando as substituições:</p>\n",
        ">\n",
        ">$$x = \\frac{mg}{b}(t + \\frac{m}{b}\\int e^{u}du)$$\n",
        ">\\\n",
        ">$$x = \\frac{mg}{b}(t + \\frac{m}{b}e^{u})$$\n",
        ">\\\n",
        ">$$x = \\frac{mg}{b}(t + \\frac{m}{b}(e^{-bt/m}|_{0}^{t}))$$\n",
        ">\\\n",
        ">$$x = \\frac{mg}{b}(t + \\frac{m}{b}(e^{-bt/m} - 1))$$\n",
        ">\\\n",
        ">$$x(t)=\\frac{m^{2}g}{b^{2}}(e^{-bt/m}+\\frac{b}{m}t-1)$$"
      ],
      "metadata": {
        "id": "eMbnE6QZj8LN"
      }
    },
    {
      "cell_type": "markdown",
      "source": [
        "---\n",
        "\n",
        "<h3 style=\"text-align: center\">Corpos em Queda Livre: Solução Numérica para a Posição$^{[1][2]}$</h3>\n",
        "\n",
        "---\n",
        "\n",
        "<p style='text-align: justify;'>Para resolver EDO's de segunda ordem pelo odeint é necessário dividir a EDO em um sistema de EDO's, que nesse caso são <code>dxdt = v</code> e <code>dvdt = -(b/m) * v + g</code> e ela vai retornar os valores de dxdt e dvdt em uma matriz <code>[dxdt, dvdt]</code>, a primeira coluna da lista são so valores para a posição e a segunda coluna são os valores para a velocidade.</p>"
      ],
      "metadata": {
        "id": "OxRCYBGorhQ0"
      }
    },
    {
      "cell_type": "code",
      "source": [
        "# definindo equação da posição\n",
        "def pos(y, t, b, m, g):\n",
        "    x, v = y\n",
        "    dxdt = v\n",
        "    dvdt = -(b/m) * v + g\n",
        "    return [dxdt, dvdt]"
      ],
      "metadata": {
        "id": "KyJ1I4hnpAme"
      },
      "execution_count": 175,
      "outputs": []
    },
    {
      "cell_type": "code",
      "source": [
        "# condições iniciais\n",
        "y0 = [0, 0]"
      ],
      "metadata": {
        "id": "cFbxPJiBpGwf"
      },
      "execution_count": 176,
      "outputs": []
    },
    {
      "cell_type": "markdown",
      "source": [
        "<p style='text-align: justify;'>Após definir o a função a ser calculada numéricamente, a função <code>odeint</code> é chamada para resolve-lá, os resultados dessa função está armazendo nas listas <code>posicao = resultado[:, 0]</code> (primeira coluna da matriz) e <code>velocidade = resultado[:, 1]</code> (segunda coluna da matriz), e também é definido a função a analítica <code>xa(t)</code>. Novamente é feito uma tabela com os valores comparativos da posição com o auxílio da biblioteca <code>pandas</code>.</p>"
      ],
      "metadata": {
        "id": "RHpJqf9GuhDu"
      }
    },
    {
      "cell_type": "code",
      "source": [
        "# resolvendo o sistema de equações\n",
        "resultado = odeint(pos, y0, t, args=(b, m, g))\n",
        "\n",
        "def xa(t):\n",
        "  return ((m*g*t)/b) + (((g*m**2)/b**2)*np.exp(-(b*t)/m)) - ((g*m**2)/b**2)\n",
        "\n",
        "x_a = xa(t)\n",
        "\n",
        "posicao, velocidade = resultado[:, 0], resultado[:, 1]"
      ],
      "metadata": {
        "id": "yyMODRJbpKlX"
      },
      "execution_count": 177,
      "outputs": []
    },
    {
      "cell_type": "code",
      "source": [
        "data_2 = {'x real': x_a, 'odeint': posicao, 'erro': abs(x_a-posicao)}\n",
        "pd.DataFrame(data_2).head(10)"
      ],
      "metadata": {
        "colab": {
          "base_uri": "https://localhost:8080/",
          "height": 363
        },
        "id": "NjjYKZ12tmRN",
        "outputId": "9a1d4daa-6a67-4ddd-9b2c-a234f325788b"
      },
      "execution_count": 178,
      "outputs": [
        {
          "output_type": "execute_result",
          "data": {
            "text/plain": [
              "       x real      odeint          erro\n",
              "0    0.000000    0.000000  0.000000e+00\n",
              "1    2.754958    2.754958  1.236116e-08\n",
              "2   11.003670   11.003670  1.612733e-08\n",
              "3   24.721969   24.721969  4.261389e-08\n",
              "4   43.885796   43.885796  4.273122e-08\n",
              "5   68.471198   68.471198  2.125293e-08\n",
              "6   98.454327   98.454327  1.686296e-08\n",
              "7  133.811438  133.811438  1.074014e-08\n",
              "8  174.518894  174.518894  1.005785e-08\n",
              "9  220.553160  220.553160  9.086335e-09"
            ],
            "text/html": [
              "\n",
              "  <div id=\"df-f905be35-f226-4108-ba75-ca93e0075b89\" class=\"colab-df-container\">\n",
              "    <div>\n",
              "<style scoped>\n",
              "    .dataframe tbody tr th:only-of-type {\n",
              "        vertical-align: middle;\n",
              "    }\n",
              "\n",
              "    .dataframe tbody tr th {\n",
              "        vertical-align: top;\n",
              "    }\n",
              "\n",
              "    .dataframe thead th {\n",
              "        text-align: right;\n",
              "    }\n",
              "</style>\n",
              "<table border=\"1\" class=\"dataframe\">\n",
              "  <thead>\n",
              "    <tr style=\"text-align: right;\">\n",
              "      <th></th>\n",
              "      <th>x real</th>\n",
              "      <th>odeint</th>\n",
              "      <th>erro</th>\n",
              "    </tr>\n",
              "  </thead>\n",
              "  <tbody>\n",
              "    <tr>\n",
              "      <th>0</th>\n",
              "      <td>0.000000</td>\n",
              "      <td>0.000000</td>\n",
              "      <td>0.000000e+00</td>\n",
              "    </tr>\n",
              "    <tr>\n",
              "      <th>1</th>\n",
              "      <td>2.754958</td>\n",
              "      <td>2.754958</td>\n",
              "      <td>1.236116e-08</td>\n",
              "    </tr>\n",
              "    <tr>\n",
              "      <th>2</th>\n",
              "      <td>11.003670</td>\n",
              "      <td>11.003670</td>\n",
              "      <td>1.612733e-08</td>\n",
              "    </tr>\n",
              "    <tr>\n",
              "      <th>3</th>\n",
              "      <td>24.721969</td>\n",
              "      <td>24.721969</td>\n",
              "      <td>4.261389e-08</td>\n",
              "    </tr>\n",
              "    <tr>\n",
              "      <th>4</th>\n",
              "      <td>43.885796</td>\n",
              "      <td>43.885796</td>\n",
              "      <td>4.273122e-08</td>\n",
              "    </tr>\n",
              "    <tr>\n",
              "      <th>5</th>\n",
              "      <td>68.471198</td>\n",
              "      <td>68.471198</td>\n",
              "      <td>2.125293e-08</td>\n",
              "    </tr>\n",
              "    <tr>\n",
              "      <th>6</th>\n",
              "      <td>98.454327</td>\n",
              "      <td>98.454327</td>\n",
              "      <td>1.686296e-08</td>\n",
              "    </tr>\n",
              "    <tr>\n",
              "      <th>7</th>\n",
              "      <td>133.811438</td>\n",
              "      <td>133.811438</td>\n",
              "      <td>1.074014e-08</td>\n",
              "    </tr>\n",
              "    <tr>\n",
              "      <th>8</th>\n",
              "      <td>174.518894</td>\n",
              "      <td>174.518894</td>\n",
              "      <td>1.005785e-08</td>\n",
              "    </tr>\n",
              "    <tr>\n",
              "      <th>9</th>\n",
              "      <td>220.553160</td>\n",
              "      <td>220.553160</td>\n",
              "      <td>9.086335e-09</td>\n",
              "    </tr>\n",
              "  </tbody>\n",
              "</table>\n",
              "</div>\n",
              "    <div class=\"colab-df-buttons\">\n",
              "\n",
              "  <div class=\"colab-df-container\">\n",
              "    <button class=\"colab-df-convert\" onclick=\"convertToInteractive('df-f905be35-f226-4108-ba75-ca93e0075b89')\"\n",
              "            title=\"Convert this dataframe to an interactive table.\"\n",
              "            style=\"display:none;\">\n",
              "\n",
              "  <svg xmlns=\"http://www.w3.org/2000/svg\" height=\"24px\" viewBox=\"0 -960 960 960\">\n",
              "    <path d=\"M120-120v-720h720v720H120Zm60-500h600v-160H180v160Zm220 220h160v-160H400v160Zm0 220h160v-160H400v160ZM180-400h160v-160H180v160Zm440 0h160v-160H620v160ZM180-180h160v-160H180v160Zm440 0h160v-160H620v160Z\"/>\n",
              "  </svg>\n",
              "    </button>\n",
              "\n",
              "  <style>\n",
              "    .colab-df-container {\n",
              "      display:flex;\n",
              "      gap: 12px;\n",
              "    }\n",
              "\n",
              "    .colab-df-convert {\n",
              "      background-color: #E8F0FE;\n",
              "      border: none;\n",
              "      border-radius: 50%;\n",
              "      cursor: pointer;\n",
              "      display: none;\n",
              "      fill: #1967D2;\n",
              "      height: 32px;\n",
              "      padding: 0 0 0 0;\n",
              "      width: 32px;\n",
              "    }\n",
              "\n",
              "    .colab-df-convert:hover {\n",
              "      background-color: #E2EBFA;\n",
              "      box-shadow: 0px 1px 2px rgba(60, 64, 67, 0.3), 0px 1px 3px 1px rgba(60, 64, 67, 0.15);\n",
              "      fill: #174EA6;\n",
              "    }\n",
              "\n",
              "    .colab-df-buttons div {\n",
              "      margin-bottom: 4px;\n",
              "    }\n",
              "\n",
              "    [theme=dark] .colab-df-convert {\n",
              "      background-color: #3B4455;\n",
              "      fill: #D2E3FC;\n",
              "    }\n",
              "\n",
              "    [theme=dark] .colab-df-convert:hover {\n",
              "      background-color: #434B5C;\n",
              "      box-shadow: 0px 1px 3px 1px rgba(0, 0, 0, 0.15);\n",
              "      filter: drop-shadow(0px 1px 2px rgba(0, 0, 0, 0.3));\n",
              "      fill: #FFFFFF;\n",
              "    }\n",
              "  </style>\n",
              "\n",
              "    <script>\n",
              "      const buttonEl =\n",
              "        document.querySelector('#df-f905be35-f226-4108-ba75-ca93e0075b89 button.colab-df-convert');\n",
              "      buttonEl.style.display =\n",
              "        google.colab.kernel.accessAllowed ? 'block' : 'none';\n",
              "\n",
              "      async function convertToInteractive(key) {\n",
              "        const element = document.querySelector('#df-f905be35-f226-4108-ba75-ca93e0075b89');\n",
              "        const dataTable =\n",
              "          await google.colab.kernel.invokeFunction('convertToInteractive',\n",
              "                                                    [key], {});\n",
              "        if (!dataTable) return;\n",
              "\n",
              "        const docLinkHtml = 'Like what you see? Visit the ' +\n",
              "          '<a target=\"_blank\" href=https://colab.research.google.com/notebooks/data_table.ipynb>data table notebook</a>'\n",
              "          + ' to learn more about interactive tables.';\n",
              "        element.innerHTML = '';\n",
              "        dataTable['output_type'] = 'display_data';\n",
              "        await google.colab.output.renderOutput(dataTable, element);\n",
              "        const docLink = document.createElement('div');\n",
              "        docLink.innerHTML = docLinkHtml;\n",
              "        element.appendChild(docLink);\n",
              "      }\n",
              "    </script>\n",
              "  </div>\n",
              "\n",
              "\n",
              "<div id=\"df-b18626ce-ef58-4304-a860-51d28cdc239e\">\n",
              "  <button class=\"colab-df-quickchart\" onclick=\"quickchart('df-b18626ce-ef58-4304-a860-51d28cdc239e')\"\n",
              "            title=\"Suggest charts\"\n",
              "            style=\"display:none;\">\n",
              "\n",
              "<svg xmlns=\"http://www.w3.org/2000/svg\" height=\"24px\"viewBox=\"0 0 24 24\"\n",
              "     width=\"24px\">\n",
              "    <g>\n",
              "        <path d=\"M19 3H5c-1.1 0-2 .9-2 2v14c0 1.1.9 2 2 2h14c1.1 0 2-.9 2-2V5c0-1.1-.9-2-2-2zM9 17H7v-7h2v7zm4 0h-2V7h2v10zm4 0h-2v-4h2v4z\"/>\n",
              "    </g>\n",
              "</svg>\n",
              "  </button>\n",
              "\n",
              "<style>\n",
              "  .colab-df-quickchart {\n",
              "      --bg-color: #E8F0FE;\n",
              "      --fill-color: #1967D2;\n",
              "      --hover-bg-color: #E2EBFA;\n",
              "      --hover-fill-color: #174EA6;\n",
              "      --disabled-fill-color: #AAA;\n",
              "      --disabled-bg-color: #DDD;\n",
              "  }\n",
              "\n",
              "  [theme=dark] .colab-df-quickchart {\n",
              "      --bg-color: #3B4455;\n",
              "      --fill-color: #D2E3FC;\n",
              "      --hover-bg-color: #434B5C;\n",
              "      --hover-fill-color: #FFFFFF;\n",
              "      --disabled-bg-color: #3B4455;\n",
              "      --disabled-fill-color: #666;\n",
              "  }\n",
              "\n",
              "  .colab-df-quickchart {\n",
              "    background-color: var(--bg-color);\n",
              "    border: none;\n",
              "    border-radius: 50%;\n",
              "    cursor: pointer;\n",
              "    display: none;\n",
              "    fill: var(--fill-color);\n",
              "    height: 32px;\n",
              "    padding: 0;\n",
              "    width: 32px;\n",
              "  }\n",
              "\n",
              "  .colab-df-quickchart:hover {\n",
              "    background-color: var(--hover-bg-color);\n",
              "    box-shadow: 0 1px 2px rgba(60, 64, 67, 0.3), 0 1px 3px 1px rgba(60, 64, 67, 0.15);\n",
              "    fill: var(--button-hover-fill-color);\n",
              "  }\n",
              "\n",
              "  .colab-df-quickchart-complete:disabled,\n",
              "  .colab-df-quickchart-complete:disabled:hover {\n",
              "    background-color: var(--disabled-bg-color);\n",
              "    fill: var(--disabled-fill-color);\n",
              "    box-shadow: none;\n",
              "  }\n",
              "\n",
              "  .colab-df-spinner {\n",
              "    border: 2px solid var(--fill-color);\n",
              "    border-color: transparent;\n",
              "    border-bottom-color: var(--fill-color);\n",
              "    animation:\n",
              "      spin 1s steps(1) infinite;\n",
              "  }\n",
              "\n",
              "  @keyframes spin {\n",
              "    0% {\n",
              "      border-color: transparent;\n",
              "      border-bottom-color: var(--fill-color);\n",
              "      border-left-color: var(--fill-color);\n",
              "    }\n",
              "    20% {\n",
              "      border-color: transparent;\n",
              "      border-left-color: var(--fill-color);\n",
              "      border-top-color: var(--fill-color);\n",
              "    }\n",
              "    30% {\n",
              "      border-color: transparent;\n",
              "      border-left-color: var(--fill-color);\n",
              "      border-top-color: var(--fill-color);\n",
              "      border-right-color: var(--fill-color);\n",
              "    }\n",
              "    40% {\n",
              "      border-color: transparent;\n",
              "      border-right-color: var(--fill-color);\n",
              "      border-top-color: var(--fill-color);\n",
              "    }\n",
              "    60% {\n",
              "      border-color: transparent;\n",
              "      border-right-color: var(--fill-color);\n",
              "    }\n",
              "    80% {\n",
              "      border-color: transparent;\n",
              "      border-right-color: var(--fill-color);\n",
              "      border-bottom-color: var(--fill-color);\n",
              "    }\n",
              "    90% {\n",
              "      border-color: transparent;\n",
              "      border-bottom-color: var(--fill-color);\n",
              "    }\n",
              "  }\n",
              "</style>\n",
              "\n",
              "  <script>\n",
              "    async function quickchart(key) {\n",
              "      const quickchartButtonEl =\n",
              "        document.querySelector('#' + key + ' button');\n",
              "      quickchartButtonEl.disabled = true;  // To prevent multiple clicks.\n",
              "      quickchartButtonEl.classList.add('colab-df-spinner');\n",
              "      try {\n",
              "        const charts = await google.colab.kernel.invokeFunction(\n",
              "            'suggestCharts', [key], {});\n",
              "      } catch (error) {\n",
              "        console.error('Error during call to suggestCharts:', error);\n",
              "      }\n",
              "      quickchartButtonEl.classList.remove('colab-df-spinner');\n",
              "      quickchartButtonEl.classList.add('colab-df-quickchart-complete');\n",
              "    }\n",
              "    (() => {\n",
              "      let quickchartButtonEl =\n",
              "        document.querySelector('#df-b18626ce-ef58-4304-a860-51d28cdc239e button');\n",
              "      quickchartButtonEl.style.display =\n",
              "        google.colab.kernel.accessAllowed ? 'block' : 'none';\n",
              "    })();\n",
              "  </script>\n",
              "</div>\n",
              "    </div>\n",
              "  </div>\n"
            ]
          },
          "metadata": {},
          "execution_count": 178
        }
      ]
    },
    {
      "cell_type": "code",
      "source": [
        "# definindo a velocidade limite\n",
        "vl=[g*m/b]*len(t)"
      ],
      "metadata": {
        "id": "KZVVQHpyqPoI"
      },
      "execution_count": 179,
      "outputs": []
    },
    {
      "cell_type": "code",
      "source": [
        "# plot da posição em função do tempo\n",
        "plt.figure(figsize=(10, 5))\n",
        "\n",
        "plt.subplot(1, 2, 1)\n",
        "plt.plot(t, x_a, 'r', label='Pos analítica')\n",
        "plt.plot(t, posicao, '--', label='Posição (x)')\n",
        "plt.xlabel('Tempo')\n",
        "plt.ylabel('Posição')\n",
        "plt.legend()\n",
        "plt.grid()\n",
        "\n",
        "# plot da velocidade em função do tempo\n",
        "plt.subplot(1, 2, 2)\n",
        "plt.plot(t, vl, '--', label='vel limte')\n",
        "plt.plot(t, velocidade, 'r', label='Velocidade (v)')\n",
        "plt.xlabel('Tempo')\n",
        "plt.ylabel('Velocidade')\n",
        "plt.legend()\n",
        "plt.grid()\n",
        "\n",
        "\n",
        "plt.tight_layout()\n",
        "plt.show()\n"
      ],
      "metadata": {
        "colab": {
          "base_uri": "https://localhost:8080/",
          "height": 506
        },
        "id": "Q6fu_qhfpP5w",
        "outputId": "5be8a831-c02b-4852-b3df-26aec2b9257a"
      },
      "execution_count": 180,
      "outputs": [
        {
          "output_type": "display_data",
          "data": {
            "text/plain": [
              "<Figure size 1000x500 with 2 Axes>"
            ],
            "image/png": "[encoded data removed]"
          },
          "metadata": {}
        }
      ]
    },
    {
      "cell_type": "markdown",
      "source": [
        "<p style='text-align: justify;'>Gráficamente consguimos visuzlizar pelo gráfico da Posição x Tempo que conforme o tempo passa a funçao tende a um comportamento linear, pelo gráfico da Velocidade x Tempo podemos ver que no instante $t = 1000$ o corpo praticamente ja atingiu a velocidade limite, olhando o comportamente do gráfico da posição a partir desse instante percebe-se que o objeto se move praticamente somo se estivesse em MRU.</p>"
      ],
      "metadata": {
        "id": "4XM8dpn8xevA"
      }
    },
    {
      "cell_type": "code",
      "source": [
        "def a(t):\n",
        "  return g*np.exp(-(b*t)/m)\n",
        "\n",
        "al = [0]*len(t)\n",
        "\n",
        "plt.plot(t, al, '--', label='ace limite')\n",
        "plt.plot(t, a(t), 'y', label='Aceleração')\n",
        "plt.xlabel('Tempo')\n",
        "plt.ylabel('Aceleração')\n",
        "plt.legend()\n",
        "plt.grid()\n",
        "plt.show()"
      ],
      "metadata": {
        "colab": {
          "base_uri": "https://localhost:8080/",
          "height": 449
        },
        "id": "fFubd8-iuQeb",
        "outputId": "899dc480-ebff-440f-9271-011db749670a"
      },
      "execution_count": 181,
      "outputs": [
        {
          "output_type": "display_data",
          "data": {
            "text/plain": [
              "<Figure size 640x480 with 1 Axes>"
            ],
            "image/png": "[encoded data removed]"
          },
          "metadata": {}
        }
      ]
    },
    {
      "cell_type": "markdown",
      "source": [
        "---\n",
        "\n",
        "<h2 style=\"text-align: center;\">Referências Bibliográficas:</h2>\n",
        "\n",
        "---\n",
        "* [1] WATARI, K. **Mecânica Clássica, Volume 1**. 2. ed. São Paulo, SP: Livraria da Física USP, 2004;\n",
        "* [2] SYMON, K. R. **Mecânica: tradução de Gilson Brand Btista**. 1. ed. Rio de Janeiro, RJ: Editora Campus, 1996;\n",
        "* [3] Valle, K. N. F. **Métodos Numéricos de Euler e Runge-Kutta**. Belo Horizonte, MG: Repositório UFMG, 2012;\n",
        "* [4] ROSSINI, M. R; ALVES, M. J; AMORIN, L. H; FILHO, P. S. C. **Estudo da influência do ar no movimento de queda dos corpos: uma comparação entre previsão teórica e os dados experimentais usando o Tracker**. Revista Brasileira de Ensino de Física, vol 42, 2020;\n",
        "* [5] SCIPY. **scipy.integrate.odeint**, 2023. Disponível em <[Documentação odeint](https://docs.scipy.org/doc/scipy/reference/generated/scipy.integrate.odeint.html)>.\n"
      ],
      "metadata": {
        "id": "w3hpDTf0tgPV"
      }
    }
  ],
  "metadata": {
    "colab": {
      "provenance": []
    },
    "kernelspec": {
      "display_name": "Python 3",
      "name": "python3"
    },
    "language_info": {
      "name": "python"
    }
  },
  "nbformat": 4,
  "nbformat_minor": 0
}
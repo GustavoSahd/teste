{
  "metadata": {
    "language_info": {
      "name": "python"
    },
    "kernelspec": {
      "name": "python3",
      "display_name": "Python 3"
    },
    "colab": {
      "provenance": []
    }
  },
  "nbformat_minor": 0,
  "nbformat": 4,
  "cells": [
    {
      "cell_type": "markdown",
      "source": [
        "<h1 style=\"text-align: center;\">Física Computacional: Corpos em Queda Livre</h1>\n",
        "\n",
        "---\n",
        "\n",
        "<h2 style=\"text-align: center;\">Cálculo Numérico: Método de Euler</h2>\n",
        "\n",
        "---\n",
        "\n",
        "<p style=\"text-align: justify;\">Mesmo existindo diversos métodos analíticos para resolução de EDOs, ainda assim existem equações que se faz necessário a utilização de métodos numéricos para se obter sua resolução. Esses métodos fornecem soluções em forma de tabelas de números $(x_0,y_0),(x_1,y_1)...(x_n,y_n)$. Em um procedimento numérico, basicamente o que acontece é a substituição de um problema com variáveis contínuas por outro problema envolvendo variáveis discretas. O Método de Euler é o procedimento mais simples, mas ele mostra as dificuldades que surgem ao se resolver uma EDO numericamente. Considere um problema de valor inicial descrito pelas equações abaixo:</p>\n"
      ],
      "metadata": {
        "id": "-dByGkHgjShm"
      }
    },
    {
      "cell_type": "markdown",
      "source": [
        "$$\n",
        "  y'=f(x,y)\\\\\n",
        "  y(x_0)=y_0\n",
        "$$"
      ],
      "metadata": {
        "id": "VvQxZIdljShp"
      }
    },
    {
      "cell_type": "markdown",
      "source": [
        "<p style=\"text-align: justify;\">Conhecendo os valores de $x_0$ e $y_0$ é possível determinar o coeficiente angular da reta tangente a $y$ no ponto $x_0$, determinando dessa forma $y_{0}'=f(x_0,y_0)$. Conhecendo o coeficiente angular, constroi-se uma reta tangente à solução $y$ no ponto $x_0$, seguindo sobre a reta tangente até encontrar a reta $x=x_1$, determina-se o valor aproximado $y_1$ de $y$ em $x_1$. Tendo assim:</p>"
      ],
      "metadata": {
        "id": "skipe3fZjShp"
      }
    },
    {
      "cell_type": "markdown",
      "source": [
        "$$\n",
        "  y_1=y_0+y_{0}'(x_1-x_0)\\\\\n",
        "  y_1=y_0+f(x_0,y_0)(x_1-x_0)\n",
        "$$"
      ],
      "metadata": {
        "id": "GXY64HfzjShq"
      }
    },
    {
      "cell_type": "markdown",
      "source": [
        "<p style=\"text-align: justify;\">Ao ser determinado o valor de $y_1$, calcula-se o valor aproximado do coeficiente angular da tangente, $y_{1}'=f(x_1,y_1)$, a $y$ no ponto $x_1$. Através disso encontra-se o valor de $y_2$.\n",
        "</p>"
      ],
      "metadata": {
        "id": "gfC4mDPAjShq"
      }
    },
    {
      "cell_type": "markdown",
      "source": [
        "$$\n",
        "    y_2=y_1+f(x_1,y_1)(x_2-x_1)\n",
        "$$"
      ],
      "metadata": {
        "id": "FdJvTRUgjShq"
      }
    },
    {
      "cell_type": "markdown",
      "source": [
        "<div style=\"text-align:center;\">\n",
        "<img src=https://live.staticflickr.com/65535/53308128473_8f49a2d3bc_b.jpg width=\"50%\" height=\"200px\">\n",
        "</div>"
      ],
      "metadata": {
        "id": "_tEeLb0jjShq"
      }
    },
    {
      "cell_type": "markdown",
      "source": [
        "<p style=\"text-align: justify;\">Continuando sucessivamente, chega-se a:</p>"
      ],
      "metadata": {
        "id": "EhFEXprgjShq"
      }
    },
    {
      "cell_type": "markdown",
      "source": [
        "$$\n",
        "y_{n+1}=y_n+f(x_n,y_n)(x_{n+1}-x_n)\n",
        "$$"
      ],
      "metadata": {
        "id": "zpXnlwL-jShq"
      }
    },
    {
      "cell_type": "markdown",
      "source": [
        "<p style=\"text-align: justify;\">Se escolher um espaçamento constante para se efetuar o cálculo, isto é, se $x_{n+1}-x_n=h$, para $n=0,1,2,...$, obtém-se a Fórmula de Euler.</p>"
      ],
      "metadata": {
        "id": "kTaM8nHgjShq"
      }
    },
    {
      "cell_type": "markdown",
      "source": [
        "$$\n",
        "  y_{n+1}=y_n+h\\cdot f(x_n,y_n)\\\\\n",
        "  x_{n+1}=x_{n}+h\n",
        "$$"
      ],
      "metadata": {
        "id": "2iydLItNjShr"
      }
    },
    {
      "cell_type": "code",
      "source": [
        "# importando as bibliotecas\n",
        "import numpy as np\n",
        "import matplotlib.pyplot as plt\n",
        "import pandas as pd"
      ],
      "metadata": {
        "trusted": true,
        "id": "0QCdT9YmjShr"
      },
      "execution_count": null,
      "outputs": []
    },
    {
      "cell_type": "code",
      "source": [
        "# definindo o método de euler\n",
        "def euler(f, v0, t0, tf, n):\n",
        "    h = (tf - t0) / n\n",
        "    t = np.linspace(t0, tf, n+1)\n",
        "    v = np.zeros(n+1)\n",
        "    v[0] = v0\n",
        "\n",
        "    for i in range(n):\n",
        "        v[i+1] = v[i] + h * f(v[i])\n",
        "\n",
        "    return t, v, h"
      ],
      "metadata": {
        "trusted": true,
        "id": "dGz-ujnejShs"
      },
      "execution_count": null,
      "outputs": []
    },
    {
      "cell_type": "markdown",
      "source": [
        "---\n",
        "\n",
        "<h2 style=\"text-align: center;\">Corpos em Queda Livre: Velocidade</h2>\n",
        "\n",
        "---\n",
        "\n",
        "<p style=\"txt-align: justify;\">Um dos problemas mais comuns da física é o problema dos corpos em queda livre, quando um corpo está próximo à superfície terrestre, com a resistência do ár desprezada, ele fica sob a ação de uma força constante:</p>"
      ],
      "metadata": {
        "id": "AGIcUI0qjShs"
      }
    },
    {
      "cell_type": "markdown",
      "source": [
        "$$\n",
        "F=mg\n",
        "$$"
      ],
      "metadata": {
        "id": "zP1xKIu_jShs"
      }
    },
    {
      "cell_type": "markdown",
      "source": [
        "<p style=\"text-align: justify;\">a direção positiva do movimento considerado é para baixo, portanto a equação de movimento é:</p>"
      ],
      "metadata": {
        "id": "CrNFpsy5jShs"
      }
    },
    {
      "cell_type": "markdown",
      "source": [
        "$$\n",
        "m\\frac{d^{2}x}{dt^{2}}=mg\n",
        "$$"
      ],
      "metadata": {
        "id": "pS5OnIb_jShs"
      }
    },
    {
      "cell_type": "markdown",
      "source": [
        "<p style=\"text-align:justify;\">Incluindo os efeitos de uma resistência do ár proporcional a $v$, a força total que atuará nos corpos em queda livre será:</p>\n",
        "\n",
        "$$\n",
        "F=mg-bv\n",
        "$$"
      ],
      "metadata": {
        "id": "FcpBztI5jShs"
      }
    },
    {
      "cell_type": "markdown",
      "source": [
        "<p style=\"text-align: justify;\">A constante $b$ depende da densidade e da forma do material que forma o corpo em queda, assim como também da viscosidade do fluído em que o corpo esta imerso. Como a resistência do ár é uma força dependente da velocidade, teremos uma força do tipo $F(v)$</p>\n",
        "\n",
        "$$\n",
        "m\\frac{dv}{dt}=mg-bv\n",
        "$$"
      ],
      "metadata": {
        "id": "DE_uZtMbjSht"
      }
    },
    {
      "cell_type": "markdown",
      "source": [
        "<p style=\"text-align: center\">Tomando $v_{0}=0$ em $t=0$, a solução analítica desse problema pode ser encontrado atraves do seguinte método:</p>\n",
        "\n",
        "$$\n",
        "\\int_{0}^{v}\\frac{dv}{v+(mg/b)}=-\\frac{bt}{m}\n",
        "$$"
      ],
      "metadata": {
        "id": "nwvsFBo5jSht"
      }
    },
    {
      "cell_type": "markdown",
      "source": [
        "<p style=\"text-align: justify;\">Aplicando o método a nossa equação de movimento, encontramos uma solução do tipo:</p>\n",
        "\n",
        "$$\n",
        "v=\\frac{mg}{b}(1-e^{-bt/m})\n",
        "$$"
      ],
      "metadata": {
        "id": "ZvnSIEL8jSht"
      }
    },
    {
      "cell_type": "markdown",
      "source": [
        "---\n",
        "\n",
        "<h3 style=\"text-align: center\">Corpos em Queda Livre: Solução Numérica</h3>\n",
        "\n",
        "---\n",
        "\n",
        "<p style=\"text-align: justify;\">Já conheceindo a equação de movimento dos corpos em queda livre é possível determinar uma Equação Diferencial Ordinária (EDO) que determinará a solução para o problema, a equação para o caso da velocidade dos corpos em queda livre será:</p>\n",
        "\n",
        "$$\n",
        "v'-g+\\frac{b}{m}v=0\n",
        "$$"
      ],
      "metadata": {
        "id": "BMiav3RmjSht"
      }
    },
    {
      "cell_type": "code",
      "source": [
        "# definindo as constantes e as funções\n",
        "m = 80.0\n",
        "g = 9.80\n",
        "b = 0.47\n",
        "\n",
        "def fv(v):\n",
        "    return g - (b * v) / m\n",
        "\n",
        "def fvr(t):\n",
        "    return (m*g/b)*(1-np.exp(-t*b/m))"
      ],
      "metadata": {
        "trusted": true,
        "id": "to1reLRNjSht"
      },
      "execution_count": null,
      "outputs": []
    },
    {
      "cell_type": "code",
      "source": [
        "# gerar uma tabela com a biblioteca panda\n",
        "t, v, h = euler(fv, 0.0, 0.0, 1000, 2000)\n",
        "real_v = fvr(t)\n",
        "\n",
        "data = {'v real': real_v, 'Euler': v, 'h': h, 'erro': abs(v-real_v)}\n",
        "pd.DataFrame(data).head(10)"
      ],
      "metadata": {
        "trusted": true,
        "id": "eG77dGbVjSht",
        "outputId": "78d43cde-c7db-412e-9bc8-9365bf53845f"
      },
      "execution_count": null,
      "outputs": [
        {
          "execution_count": 4,
          "output_type": "execute_result",
          "data": {
            "text/plain": "      v real      Euler    h      erro\n0   0.000000   0.000000  0.5  0.000000\n1   4.892810   4.900000  0.5  0.007190\n2   9.771269   9.785606  0.5  0.014337\n3  14.635418  14.656861  0.5  0.021443\n4  19.485300  19.513807  0.5  0.028507\n5  24.320956  24.356485  0.5  0.035529\n6  29.142428  29.184938  0.5  0.042510\n7  33.949758  33.999207  0.5  0.049449\n8  38.742987  38.799334  0.5  0.056347\n9  43.522157  43.585361  0.5  0.063204",
            "text/html": "<div>\n<style scoped>\n    .dataframe tbody tr th:only-of-type {\n        vertical-align: middle;\n    }\n\n    .dataframe tbody tr th {\n        vertical-align: top;\n    }\n\n    .dataframe thead th {\n        text-align: right;\n    }\n</style>\n<table border=\"1\" class=\"dataframe\">\n  <thead>\n    <tr style=\"text-align: right;\">\n      <th></th>\n      <th>v real</th>\n      <th>Euler</th>\n      <th>h</th>\n      <th>erro</th>\n    </tr>\n  </thead>\n  <tbody>\n    <tr>\n      <th>0</th>\n      <td>0.000000</td>\n      <td>0.000000</td>\n      <td>0.5</td>\n      <td>0.000000</td>\n    </tr>\n    <tr>\n      <th>1</th>\n      <td>4.892810</td>\n      <td>4.900000</td>\n      <td>0.5</td>\n      <td>0.007190</td>\n    </tr>\n    <tr>\n      <th>2</th>\n      <td>9.771269</td>\n      <td>9.785606</td>\n      <td>0.5</td>\n      <td>0.014337</td>\n    </tr>\n    <tr>\n      <th>3</th>\n      <td>14.635418</td>\n      <td>14.656861</td>\n      <td>0.5</td>\n      <td>0.021443</td>\n    </tr>\n    <tr>\n      <th>4</th>\n      <td>19.485300</td>\n      <td>19.513807</td>\n      <td>0.5</td>\n      <td>0.028507</td>\n    </tr>\n    <tr>\n      <th>5</th>\n      <td>24.320956</td>\n      <td>24.356485</td>\n      <td>0.5</td>\n      <td>0.035529</td>\n    </tr>\n    <tr>\n      <th>6</th>\n      <td>29.142428</td>\n      <td>29.184938</td>\n      <td>0.5</td>\n      <td>0.042510</td>\n    </tr>\n    <tr>\n      <th>7</th>\n      <td>33.949758</td>\n      <td>33.999207</td>\n      <td>0.5</td>\n      <td>0.049449</td>\n    </tr>\n    <tr>\n      <th>8</th>\n      <td>38.742987</td>\n      <td>38.799334</td>\n      <td>0.5</td>\n      <td>0.056347</td>\n    </tr>\n    <tr>\n      <th>9</th>\n      <td>43.522157</td>\n      <td>43.585361</td>\n      <td>0.5</td>\n      <td>0.063204</td>\n    </tr>\n  </tbody>\n</table>\n</div>"
          },
          "metadata": {}
        }
      ]
    },
    {
      "cell_type": "markdown",
      "source": [
        "---\n",
        "\n",
        "<h3 style=\"text-align: center;\">Corpos em Queda Livre: Velocidade Terminal</h3>\n",
        "\n",
        "---"
      ],
      "metadata": {
        "id": "fQxI8C8gjShu"
      }
    },
    {
      "cell_type": "markdown",
      "source": [
        "<p style=\"text-align: justify\">Ao analisar a solução analítica para o problema dos corpos em queda livre, pode-se perceber que quando $t \\rightarrow \\infty$, a velocidade tenderá a $v=mg/b$. reescrevendo a expressão ficará mais fácil de visualizar isso:</p>\n",
        "\n",
        "$$\n",
        "v=\\frac{mg}{b} - \\frac{mg}{b}\\cdot\\frac{1}{e^{bt/m}}\n",
        "$$\n",
        "\n",
        "<p style=\"text-align: justify;\">Aplicando o limite na expressão acima, temos:</p>\n",
        "\n",
        "$$\n",
        "\\lim_{t\\rightarrow\\infty}\\frac{mg}{b} - \\frac{mg}{b}\\cdot\\frac{1}{e^{bt/m}}=\\frac{mg}{b}\n",
        "$$"
      ],
      "metadata": {
        "id": "FnK9VO7RjShv"
      }
    },
    {
      "cell_type": "markdown",
      "source": [
        "<p style=\"text-align: justify;\">A velocidade $mg/b$ é chamada de velocidade terminal, e um corpo alcança essa velocidade quando as forças gravitacionais e de resistência de ár se equilibram."
      ],
      "metadata": {
        "id": "XDQxLx7qjShv"
      }
    },
    {
      "cell_type": "code",
      "source": [
        "# verificando a velocidade limite\n",
        "vl=[g*m/b]*len(t)"
      ],
      "metadata": {
        "trusted": true,
        "id": "OVXR1lGpjShv"
      },
      "execution_count": null,
      "outputs": []
    },
    {
      "cell_type": "code",
      "source": [
        "# gerar um gráfico com a biblioteca matplotlib\n",
        "plt.plot(t, v,'--',label='h1')\n",
        "plt.plot(t, vl, '--')\n",
        "plt.plot(t, real_v)\n",
        "plt.xlabel('Tempo (s)')\n",
        "plt.ylabel('Velocidade (m/s)')\n",
        "plt.legend()\n",
        "plt.show()"
      ],
      "metadata": {
        "trusted": true,
        "id": "B_nlelS_jShv",
        "outputId": "77711099-ee51-4d0f-b368-9abfbf4eb7fe"
      },
      "execution_count": null,
      "outputs": [
        {
          "output_type": "display_data",
          "data": {
            "text/plain": "<Figure size 640x480 with 1 Axes>",
            "image/png": "[encoded data removed]"
          },
          "metadata": {}
        }
      ]
    },
    {
      "cell_type": "markdown",
      "source": [
        "***"
      ],
      "metadata": {
        "id": "BgmoPf_XjShv"
      }
    },
    {
      "cell_type": "code",
      "source": [
        "# importando as bibliotecas\n",
        "import numpy as np\n",
        "import matplotlib.pyplot as plt\n",
        "from scipy.integrate import odeint"
      ],
      "metadata": {
        "trusted": true,
        "id": "3VpaxFrCjShw"
      },
      "execution_count": null,
      "outputs": []
    },
    {
      "cell_type": "code",
      "source": [
        "# definindo as funções e suas constantes\n",
        "m = 80.0\n",
        "g = 9.80\n",
        "b = 0.47\n",
        "\n",
        "def fv(v, t, b, g, m):\n",
        "    return g - (b * v) / m\n",
        "\n",
        "def v(t):\n",
        "    return (m*g/b)*(1-np.exp(-t*b/m))"
      ],
      "metadata": {
        "trusted": true,
        "id": "Lve2kPMvjShw"
      },
      "execution_count": null,
      "outputs": []
    },
    {
      "cell_type": "code",
      "source": [
        "# chamando a função odeint\n",
        "t = np.linspace(0, 1000, 2000)\n",
        "v0 = 0.0\n",
        "\n",
        "sol = odeint(fv, v0, t, args=(b, g, m))\n",
        "v_ = v(t)"
      ],
      "metadata": {
        "trusted": true,
        "id": "F-TpTwZbjShw"
      },
      "execution_count": null,
      "outputs": []
    },
    {
      "cell_type": "code",
      "source": [
        "# criando tabela de dados\n",
        "data_1 = {'v real': sol, 'Euler': v_, 'erro': abs(sol-v_)}\n",
        "pd.DataFrame(data).head(10)"
      ],
      "metadata": {
        "trusted": true,
        "id": "E7g_wa0ZjShw",
        "outputId": "dc762b54-4c2e-417f-94a9-d8dcde8ff74b"
      },
      "execution_count": null,
      "outputs": [
        {
          "execution_count": 10,
          "output_type": "execute_result",
          "data": {
            "text/plain": "      v real      Euler    h      erro\n0   0.000000   0.000000  0.5  0.000000\n1   4.892810   4.900000  0.5  0.007190\n2   9.771269   9.785606  0.5  0.014337\n3  14.635418  14.656861  0.5  0.021443\n4  19.485300  19.513807  0.5  0.028507\n5  24.320956  24.356485  0.5  0.035529\n6  29.142428  29.184938  0.5  0.042510\n7  33.949758  33.999207  0.5  0.049449\n8  38.742987  38.799334  0.5  0.056347\n9  43.522157  43.585361  0.5  0.063204",
            "text/html": "<div>\n<style scoped>\n    .dataframe tbody tr th:only-of-type {\n        vertical-align: middle;\n    }\n\n    .dataframe tbody tr th {\n        vertical-align: top;\n    }\n\n    .dataframe thead th {\n        text-align: right;\n    }\n</style>\n<table border=\"1\" class=\"dataframe\">\n  <thead>\n    <tr style=\"text-align: right;\">\n      <th></th>\n      <th>v real</th>\n      <th>Euler</th>\n      <th>h</th>\n      <th>erro</th>\n    </tr>\n  </thead>\n  <tbody>\n    <tr>\n      <th>0</th>\n      <td>0.000000</td>\n      <td>0.000000</td>\n      <td>0.5</td>\n      <td>0.000000</td>\n    </tr>\n    <tr>\n      <th>1</th>\n      <td>4.892810</td>\n      <td>4.900000</td>\n      <td>0.5</td>\n      <td>0.007190</td>\n    </tr>\n    <tr>\n      <th>2</th>\n      <td>9.771269</td>\n      <td>9.785606</td>\n      <td>0.5</td>\n      <td>0.014337</td>\n    </tr>\n    <tr>\n      <th>3</th>\n      <td>14.635418</td>\n      <td>14.656861</td>\n      <td>0.5</td>\n      <td>0.021443</td>\n    </tr>\n    <tr>\n      <th>4</th>\n      <td>19.485300</td>\n      <td>19.513807</td>\n      <td>0.5</td>\n      <td>0.028507</td>\n    </tr>\n    <tr>\n      <th>5</th>\n      <td>24.320956</td>\n      <td>24.356485</td>\n      <td>0.5</td>\n      <td>0.035529</td>\n    </tr>\n    <tr>\n      <th>6</th>\n      <td>29.142428</td>\n      <td>29.184938</td>\n      <td>0.5</td>\n      <td>0.042510</td>\n    </tr>\n    <tr>\n      <th>7</th>\n      <td>33.949758</td>\n      <td>33.999207</td>\n      <td>0.5</td>\n      <td>0.049449</td>\n    </tr>\n    <tr>\n      <th>8</th>\n      <td>38.742987</td>\n      <td>38.799334</td>\n      <td>0.5</td>\n      <td>0.056347</td>\n    </tr>\n    <tr>\n      <th>9</th>\n      <td>43.522157</td>\n      <td>43.585361</td>\n      <td>0.5</td>\n      <td>0.063204</td>\n    </tr>\n  </tbody>\n</table>\n</div>"
          },
          "metadata": {}
        }
      ]
    },
    {
      "cell_type": "code",
      "source": [
        "# plotando o gráfico\n",
        "plt.plot(t,v_,label='result. real')\n",
        "\n",
        "plt.plot(t, sol, '--')\n",
        "plt.xlabel('Tempo (s)')\n",
        "plt.ylabel('Velocidade (m/s)')\n",
        "plt.title('Velocidade em Função do Tempo')\n",
        "plt.show()"
      ],
      "metadata": {
        "trusted": true,
        "id": "Cg-d4jaljShx",
        "outputId": "bfa8b95a-2284-46dc-cb47-4397e760e7a0"
      },
      "execution_count": null,
      "outputs": [
        {
          "output_type": "display_data",
          "data": {
            "text/plain": "<Figure size 640x480 with 1 Axes>",
            "image/png": "[encoded data removed]"
          },
          "metadata": {}
        }
      ]
    }
  ]
}